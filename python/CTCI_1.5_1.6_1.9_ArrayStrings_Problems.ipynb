{
 "cells": [
  {
   "cell_type": "markdown",
   "metadata": {},
   "source": [
    "### 1.5 - One away problem - Three differnent kind of edits, insert, replace and delete that can happen on a string. Given two strings, write a function to check if they are one (or zero edits) away from each other!"
   ]
  },
  {
   "cell_type": "code",
   "execution_count": 1,
   "metadata": {},
   "outputs": [],
   "source": [
    "# Example:\n",
    "# pale, ple -> true\n",
    "# pales, pale -> true\n",
    "# pale, bale -> true\n",
    "# pale, bae -> false"
   ]
  },
  {
   "cell_type": "code",
   "execution_count": null,
   "metadata": {},
   "outputs": [],
   "source": [
    "# Brute force approach - Test and check all possible strings that are one edit away by \n",
    "# removing each of the character and comparing, and then testing the insertion of each possible\n",
    "# character and then comparing.\n",
    "\n",
    "# This approach will be too slow, so let's not bother implementing it.\n"
   ]
  },
  {
   "cell_type": "code",
   "execution_count": 2,
   "metadata": {},
   "outputs": [],
   "source": [
    "# We only have 3 possible operations in this.\n",
    "# Replacement\n",
    "# Insertion\n",
    "# Deletion - It is just the inverse of insertion.\n",
    "\n",
    "# Each of those operations work out of length of the two strings.\n",
    "\n",
    "# We can go ahead and implement this algorithm.\n",
    "# We will have the insertion and deletion into one single step.\n",
    "\n",
    "# The lengths of the strings will tell you which test to conduct on the strings.\n",
    "\n"
   ]
  },
  {
   "cell_type": "code",
   "execution_count": 4,
   "metadata": {},
   "outputs": [],
   "source": [
    "# Check for the difference in lengths of the two strings and see which function \n",
    "# check to invoke based on the lengths of the string.\n",
    "\n",
    "def oneEditAway(str1, str2):\n",
    "    if len(str1) == len(str2):\n",
    "        return oneEditReplace(str1, str2)\n",
    "    elif len(str1) + 1 == len(str2):\n",
    "        return oneEditInsert(str1, str2)\n",
    "    elif len(str1) - 1 == len(str2):\n",
    "        return oneEditInsert(str2, str1)\n",
    "    else:\n",
    "        return False"
   ]
  },
  {
   "cell_type": "code",
   "execution_count": 7,
   "metadata": {},
   "outputs": [],
   "source": [
    "def oneEditReplace(s1, s2):\n",
    "    # Have an indicator set to false initially.\n",
    "    # Here the lengths of the two strings are the same.\n",
    "    found_difference = False\n",
    "    for i, v in enumerate(s1):\n",
    "        if v != s2[i]:\n",
    "            if found_difference:\n",
    "                return False\n",
    "            found_difference = True\n",
    "    return True # For the case when the two strings are the same"
   ]
  },
  {
   "cell_type": "code",
   "execution_count": 15,
   "metadata": {},
   "outputs": [],
   "source": [
    "def oneEditInsert(s1, s2):\n",
    "    '''String s1 is always bigger in size than String s2'''\n",
    "    index1 = 0\n",
    "    index2 = 0\n",
    "    while (index2 < len(s2) and index1 < len(s1)):\n",
    "        if s1[index1] != s2[index2]:\n",
    "            if index1 != index2:\n",
    "                return False\n",
    "            index2 = index2 + 1\n",
    "        else:\n",
    "            index1 += 1\n",
    "            index2 += 1\n",
    "    return True"
   ]
  },
  {
   "cell_type": "code",
   "execution_count": 13,
   "metadata": {},
   "outputs": [],
   "source": [
    "# Testing for the cases!"
   ]
  },
  {
   "cell_type": "code",
   "execution_count": 12,
   "metadata": {},
   "outputs": [],
   "source": [
    "oneEditAway('pale','ale')"
   ]
  },
  {
   "cell_type": "code",
   "execution_count": 19,
   "metadata": {},
   "outputs": [
    {
     "data": {
      "text/plain": [
       "True"
      ]
     },
     "execution_count": 19,
     "metadata": {},
     "output_type": "execute_result"
    }
   ],
   "source": [
    "oneEditAway('paBle', 'pale')"
   ]
  },
  {
   "cell_type": "markdown",
   "metadata": {},
   "source": [
    "### 1.6 - String Compression: Implement a function to perform basic string compression using the counts of repeated characters. For eg. aabccccaaa should be a2b1c4a3 as the output. You should only return the string if its compressed string size is less than the original string else you will return the original string itself."
   ]
  },
  {
   "cell_type": "code",
   "execution_count": 55,
   "metadata": {},
   "outputs": [],
   "source": [
    "def compressString(s1):\n",
    "    compress = \"\"\n",
    "    num = 0\n",
    "    i = 0\n",
    "    while i < len(s1)-1:\n",
    "        if s1[i] != s1[i + 1]:\n",
    "            num = num + 1\n",
    "            compress = compress + s1[i] + str(num)\n",
    "            num = 0\n",
    "            i += 1\n",
    "        else:\n",
    "            num = num + 1\n",
    "            i += 1\n",
    "    # This line is meant to handle the last digit, which it has nothing to compare with.\n",
    "    compress = compress + s1[-1] + str(num + 1)\n",
    "    if len(compress) <= len(s1):\n",
    "        return compress\n",
    "    else:\n",
    "        return s1     "
   ]
  },
  {
   "cell_type": "code",
   "execution_count": 57,
   "metadata": {},
   "outputs": [
    {
     "data": {
      "text/plain": [
       "'a1b1c4d3'"
      ]
     },
     "execution_count": 57,
     "metadata": {},
     "output_type": "execute_result"
    }
   ],
   "source": [
    "compressString('abccccddd')"
   ]
  },
  {
   "cell_type": "markdown",
   "metadata": {},
   "source": [
    "### 1.9 - String rotation. Assume you have an isSubString method, which checks if one word is a substring of the another.  Given two strings s1 and s2, write a code, to check if s2 is a rotation of s1 using only one call to isSubString method."
   ]
  },
  {
   "cell_type": "code",
   "execution_count": 59,
   "metadata": {},
   "outputs": [],
   "source": [
    "# If we imagine that s2 is a rotation of s1, then we can ask what the rotation point is?\n",
    "# If you rotate waterbottle after wat, you get erbottlewat. In a rotation we cut string s1\n",
    "# in two xy component.\n",
    "\n",
    "# s1 = xy = waterbottle\n",
    "# x = wat\n",
    "# y = erbottle\n",
    "# s2 = yz = erbottlewat\n",
    "\n",
    "# So, we need a way to check if there is a split s1 into xy such that xy = s1 and yx = s2.\n",
    "# Regardless where the split takes place between x and y, we can see that yx will always be\n",
    "# a substring of xyxy. That is, s2 will alwats be a substring of s1s1.\n",
    "\n",
    "# And this is precisely, how you will solve this problem by making a call \n",
    "# isSubstring(s1s1, s2)."
   ]
  },
  {
   "cell_type": "code",
   "execution_count": 63,
   "metadata": {},
   "outputs": [],
   "source": [
    "def isRotation(s1, s2):\n",
    "    if (len(s1) == len(s2) and len(s1) > 0):\n",
    "        # Concatenate s1 and s1 into a new buffer.\n",
    "        s1s1 = s1 + s1\n",
    "        return isSubstring(s1s1, s2)\n",
    "    return False"
   ]
  },
  {
   "cell_type": "code",
   "execution_count": 62,
   "metadata": {},
   "outputs": [],
   "source": [
    "def isSubstring(s1, s2):\n",
    "    '''Checks if s2 is present in s1'''\n",
    "    if s2 in s1:\n",
    "        return True\n",
    "    else:\n",
    "        return False"
   ]
  },
  {
   "cell_type": "code",
   "execution_count": 66,
   "metadata": {},
   "outputs": [
    {
     "data": {
      "text/plain": [
       "True"
      ]
     },
     "execution_count": 66,
     "metadata": {},
     "output_type": "execute_result"
    }
   ],
   "source": [
    "isRotation('waterbottle','erbottlewat')"
   ]
  },
  {
   "cell_type": "code",
   "execution_count": 68,
   "metadata": {},
   "outputs": [
    {
     "data": {
      "text/plain": [
       "False"
      ]
     },
     "execution_count": 68,
     "metadata": {},
     "output_type": "execute_result"
    }
   ],
   "source": [
    "isRotation('Samir','irSami')"
   ]
  }
 ],
 "metadata": {
  "kernelspec": {
   "display_name": "Python 3",
   "language": "python",
   "name": "python3"
  },
  "language_info": {
   "codemirror_mode": {
    "name": "ipython",
    "version": 3
   },
   "file_extension": ".py",
   "mimetype": "text/x-python",
   "name": "python",
   "nbconvert_exporter": "python",
   "pygments_lexer": "ipython3",
   "version": "3.5.2"
  }
 },
 "nbformat": 4,
 "nbformat_minor": 2
}
