{
 "cells": [
  {
   "cell_type": "markdown",
   "metadata": {},
   "source": [
    "## 1.1\n",
    "## Is Unique - Implement an algorithm to determine if a string has all unique characters.\n",
    "## How will you modify your problem to not include any additional data structures."
   ]
  },
  {
   "cell_type": "code",
   "execution_count": 1,
   "metadata": {},
   "outputs": [],
   "source": [
    "# You can further ask if string is ASCII or Unicode. That would affect the storage size.\n",
    "# We will assume that the string is in ASCII format.\n",
    "\n",
    "# We can therefore immediately return false if the lenght of the string > 256 (for extended ASCII format)"
   ]
  },
  {
   "cell_type": "code",
   "execution_count": 2,
   "metadata": {},
   "outputs": [],
   "source": [
    "def isUnique(str):\n",
    "    # Check for the edge case where the \n",
    "    # len of the string is greater than 256\n",
    "    if len(str) > 256:\n",
    "        return False\n",
    "    \n",
    "    # We will create an empty hashmap and then add elements one by one\n",
    "    my_dict = {}\n",
    "    for i in str:\n",
    "        if i in my_dict.keys():\n",
    "            return False\n",
    "        else:\n",
    "            my_dict[i] = 1\n",
    "    return True"
   ]
  },
  {
   "cell_type": "code",
   "execution_count": 12,
   "metadata": {},
   "outputs": [
    {
     "data": {
      "text/plain": [
       "False"
      ]
     },
     "execution_count": 12,
     "metadata": {},
     "output_type": "execute_result"
    }
   ],
   "source": [
    "isUnique('SaSir')"
   ]
  },
  {
   "cell_type": "code",
   "execution_count": 13,
   "metadata": {},
   "outputs": [
    {
     "data": {
      "text/plain": [
       "False"
      ]
     },
     "execution_count": 13,
     "metadata": {},
     "output_type": "execute_result"
    }
   ],
   "source": [
    "isUnique('Alibaba')"
   ]
  },
  {
   "cell_type": "code",
   "execution_count": 14,
   "metadata": {},
   "outputs": [
    {
     "data": {
      "text/plain": [
       "True"
      ]
     },
     "execution_count": 14,
     "metadata": {},
     "output_type": "execute_result"
    }
   ],
   "source": [
    "isUnique('Samir')"
   ]
  },
  {
   "cell_type": "code",
   "execution_count": 3,
   "metadata": {},
   "outputs": [
    {
     "data": {
      "text/plain": [
       "True"
      ]
     },
     "execution_count": 3,
     "metadata": {},
     "output_type": "execute_result"
    }
   ],
   "source": [
    "isUnique('Tilak')"
   ]
  },
  {
   "cell_type": "code",
   "execution_count": 16,
   "metadata": {},
   "outputs": [],
   "source": [
    "# The run-time of this program is O(n), where n is the length of the string.\n",
    "# The complexity is O(min(c, n)), where c is the size of the character set.\n",
    "# Space complexity is O(1)."
   ]
  },
  {
   "cell_type": "code",
   "execution_count": 17,
   "metadata": {},
   "outputs": [],
   "source": [
    "# If no datastructure is allowed, then we can implement the same algorithm, where we check the current element,\n",
    "# for every other element beyond that to see if it does not repeat.\n",
    "# This will be computationally intensive as it will have a runtime of O(n2).\n",
    "\n",
    "# The other approach here is to sort the string in place with O(nlog(n)), and then check if the two neighboring\n",
    "# elements are the same. If they are same, then return False, else return True."
   ]
  },
  {
   "cell_type": "code",
   "execution_count": 25,
   "metadata": {},
   "outputs": [],
   "source": [
    "def isUnique_noDS(str):\n",
    "    # Check for the edge case where the \n",
    "    # len of the string is greater than 256\n",
    "    if len(str) > 256:\n",
    "        return False\n",
    "    \n",
    "    for i, v in enumerate(str):\n",
    "        # print(i, v)\n",
    "        for j in str[i+1:]:\n",
    "            # print(j)\n",
    "            if v == j:\n",
    "                return False\n",
    "    return True\n",
    "        "
   ]
  },
  {
   "cell_type": "code",
   "execution_count": 26,
   "metadata": {},
   "outputs": [
    {
     "data": {
      "text/plain": [
       "True"
      ]
     },
     "execution_count": 26,
     "metadata": {},
     "output_type": "execute_result"
    }
   ],
   "source": [
    "isUnique_noDS('Samir')"
   ]
  },
  {
   "cell_type": "code",
   "execution_count": 27,
   "metadata": {},
   "outputs": [
    {
     "data": {
      "text/plain": [
       "False"
      ]
     },
     "execution_count": 27,
     "metadata": {},
     "output_type": "execute_result"
    }
   ],
   "source": [
    "isUnique('SaSir')"
   ]
  },
  {
   "cell_type": "code",
   "execution_count": 28,
   "metadata": {},
   "outputs": [
    {
     "data": {
      "text/plain": [
       "False"
      ]
     },
     "execution_count": 28,
     "metadata": {},
     "output_type": "execute_result"
    }
   ],
   "source": [
    "isUnique('Alibaba')"
   ]
  },
  {
   "cell_type": "code",
   "execution_count": 29,
   "metadata": {},
   "outputs": [
    {
     "data": {
      "text/plain": [
       "False"
      ]
     },
     "execution_count": 29,
     "metadata": {},
     "output_type": "execute_result"
    }
   ],
   "source": [
    "isUnique('Dhanvantari')"
   ]
  },
  {
   "cell_type": "code",
   "execution_count": 43,
   "metadata": {},
   "outputs": [],
   "source": [
    "def isUnique_sort(str):\n",
    "    # Check for the edge case where the \n",
    "    # len of the string is greater than 256\n",
    "    if len(str) > 256:\n",
    "        return False\n",
    "    \n",
    "    s = sorted(str)\n",
    "    i = 0\n",
    "    # Since the index starts with 0 in python\n",
    "    while i < len(s)-1:\n",
    "        if s[i] == s[i+1]:\n",
    "            return False\n",
    "        i = i + 1\n",
    "    return True"
   ]
  },
  {
   "cell_type": "code",
   "execution_count": 44,
   "metadata": {},
   "outputs": [
    {
     "data": {
      "text/plain": [
       "True"
      ]
     },
     "execution_count": 44,
     "metadata": {},
     "output_type": "execute_result"
    }
   ],
   "source": [
    "isUnique_sort('Samir')"
   ]
  },
  {
   "cell_type": "code",
   "execution_count": 45,
   "metadata": {},
   "outputs": [
    {
     "data": {
      "text/plain": [
       "False"
      ]
     },
     "execution_count": 45,
     "metadata": {},
     "output_type": "execute_result"
    }
   ],
   "source": [
    "isUnique_sort('Dhanvantari')"
   ]
  },
  {
   "cell_type": "markdown",
   "metadata": {},
   "source": [
    "## 1.2  \n",
    "## Check Permutations! Given two strings, check if one is the permutation of the other."
   ]
  },
  {
   "cell_type": "code",
   "execution_count": 46,
   "metadata": {},
   "outputs": [],
   "source": [
    "# Check with interviewer is the permutation is case sensitive or insensitive?\n",
    "# Is God a permutation of dog?\n",
    "# Is Whitespace going to be a significant factor here?\n",
    "# Is \"God     \" still a permutation of \"dog\"?\n",
    "\n",
    "# We know that strings of differing length cannot be a permutation of each other, so we can reject if the lengths\n",
    "# don't match right away.\n",
    "\n",
    "# There are 2 ways to solve this problem."
   ]
  },
  {
   "cell_type": "code",
   "execution_count": 53,
   "metadata": {},
   "outputs": [],
   "source": [
    "# Solution # 1: Sort the strings.\n",
    "# Then we just check for the sorted version of the string to be same.\n",
    "\n",
    "def is_permute(str1, str2):\n",
    "    # We convert the string to lowercase and then remove whitespaces on both the strings\n",
    "    s1 = sorted(str1.lower().replace(' ',''))\n",
    "    s2 = sorted(str2.lower().replace(' ',''))\n",
    "    # Return a boolean check of two sorted strings to be the same\n",
    "    return s1 == s2"
   ]
  },
  {
   "cell_type": "code",
   "execution_count": 56,
   "metadata": {},
   "outputs": [
    {
     "data": {
      "text/plain": [
       "False"
      ]
     },
     "execution_count": 56,
     "metadata": {},
     "output_type": "execute_result"
    }
   ],
   "source": [
    "is_permute('God','dog')"
   ]
  },
  {
   "cell_type": "code",
   "execution_count": 55,
   "metadata": {},
   "outputs": [
    {
     "data": {
      "text/plain": [
       "False"
      ]
     },
     "execution_count": 55,
     "metadata": {},
     "output_type": "execute_result"
    }
   ],
   "source": [
    "is_permute('Clint East Wood','Wild Wild west')"
   ]
  },
  {
   "cell_type": "code",
   "execution_count": 57,
   "metadata": {},
   "outputs": [
    {
     "data": {
      "text/plain": [
       "True"
      ]
     },
     "execution_count": 57,
     "metadata": {},
     "output_type": "execute_result"
    }
   ],
   "source": [
    "is_permute('zasdf','fdsaz')"
   ]
  },
  {
   "cell_type": "code",
   "execution_count": 58,
   "metadata": {},
   "outputs": [],
   "source": [
    "# This algorithm is not highly efficient, as it relies on sorting the array, which can be O(nLog(n))\n",
    "# But this is the most elegant and easy to understand algorithm to be written.\n",
    "\n",
    "# We can comeup with a different more efficient algorithm with the help of some data structures."
   ]
  },
  {
   "cell_type": "code",
   "execution_count": 59,
   "metadata": {},
   "outputs": [],
   "source": [
    "# Solution 2: Two words with same character count, if observed then its a permute of another.\n",
    "# We simply iterate through each string, counting every occurance of the letter, then afterword\n",
    "# when we parse through the other string, we simply subtract from the hashmap. In the end if we have any key with\n",
    "# value > 0, then we say the permute is not present, else yes."
   ]
  },
  {
   "cell_type": "code",
   "execution_count": 60,
   "metadata": {},
   "outputs": [],
   "source": [
    "def is_permute_hash(str1, str2):\n",
    "    s1 = str1.lower().replace(' ','')\n",
    "    s2 = str2.lower().replace(' ','')\n",
    "    \n",
    "    # Check for the length to be exactly same.\n",
    "    if len(s1) != len(s2):\n",
    "        return False\n",
    "    \n",
    "    # Initialize an empty dictionary or hashmap.\n",
    "    my_dict = {}\n",
    "    \n",
    "    for i in s1:\n",
    "        if i in my_dict.keys():\n",
    "            my_dict[i] += 1\n",
    "        else:\n",
    "            my_dict[i] = 1\n",
    "            \n",
    "    for j in s2:\n",
    "        if j not in my_dict.keys():\n",
    "            return False\n",
    "        else:\n",
    "            my_dict[j] -= 1\n",
    "            \n",
    "    for i, v in my_dict.items():\n",
    "        if v != 0:\n",
    "            return False\n",
    "    return True"
   ]
  },
  {
   "cell_type": "code",
   "execution_count": 63,
   "metadata": {},
   "outputs": [
    {
     "data": {
      "text/plain": [
       "True"
      ]
     },
     "execution_count": 63,
     "metadata": {},
     "output_type": "execute_result"
    }
   ],
   "source": [
    "is_permute_hash('God  ','dog')"
   ]
  }
 ],
 "metadata": {
  "kernelspec": {
   "display_name": "Python 3",
   "language": "python",
   "name": "python3"
  },
  "language_info": {
   "codemirror_mode": {
    "name": "ipython",
    "version": 3
   },
   "file_extension": ".py",
   "mimetype": "text/x-python",
   "name": "python",
   "nbconvert_exporter": "python",
   "pygments_lexer": "ipython3",
   "version": "3.5.2"
  }
 },
 "nbformat": 4,
 "nbformat_minor": 2
}
