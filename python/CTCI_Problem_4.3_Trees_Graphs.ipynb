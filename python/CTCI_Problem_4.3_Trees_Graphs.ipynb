{
 "cells": [
  {
   "cell_type": "code",
   "execution_count": 1,
   "metadata": {},
   "outputs": [],
   "source": [
    "# Trees and Graphs in CTCI Problem 4.3"
   ]
  },
  {
   "cell_type": "code",
   "execution_count": 2,
   "metadata": {},
   "outputs": [],
   "source": [
    "# Problem: Given a binary tree, design an algorithm that will give D number of linked list, where D is the depth \n",
    "# of the tree.\n",
    "\n",
    "# The linked list will contain all the nodes present in that level of the tree"
   ]
  },
  {
   "cell_type": "code",
   "execution_count": 3,
   "metadata": {},
   "outputs": [],
   "source": [
    "# There is no need to traverse the tree layer by layer, as we only need to known which level we are on, before\n",
    "# we start pushing those nodes into the linked list."
   ]
  },
  {
   "cell_type": "code",
   "execution_count": 4,
   "metadata": {},
   "outputs": [],
   "source": [
    "# Let's do a pre-order traversal algorithm where we pass in the level + 1 as a parameter to the next recursive call.\n",
    "\n",
    "# We will do a version of DFS in this type of iteration."
   ]
  },
  {
   "cell_type": "code",
   "execution_count": null,
   "metadata": {},
   "outputs": [],
   "source": []
  },
  {
   "cell_type": "code",
   "execution_count": null,
   "metadata": {},
   "outputs": [],
   "source": []
  },
  {
   "cell_type": "code",
   "execution_count": null,
   "metadata": {},
   "outputs": [],
   "source": [
    "# Exercise 4.4\n",
    "\n",
    "# Check if the tree is balanced or not.\n",
    "\n",
    "# Balanced tree is defined so that the difference in height of it's subtrees are not more than 1."
   ]
  },
  {
   "cell_type": "code",
   "execution_count": 6,
   "metadata": {},
   "outputs": [],
   "source": [
    "def getHeight(TreeNode root):\n",
    "    if (root == NULL):\n",
    "        return -1 #Base case\n",
    "    else:\n",
    "        return max(getHeight(root.left), getHeight(root.right)) + 1"
   ]
  },
  {
   "cell_type": "code",
   "execution_count": null,
   "metadata": {},
   "outputs": [],
   "source": [
    "def isBalanced(TreeNode root):\n",
    "    if (root == NULL):\n",
    "        return True #Base case\n",
    "    \n",
    "    heightDiff = getHeight(root.left) - getHeight(root.right)\n",
    "    if(abs(heightDiff) > 1):\n",
    "        return False\n",
    "    else:\n",
    "        # Recurse here\n",
    "        return isBalanced(root.left) && isBalanced(root.right)\n",
    "        "
   ]
  },
  {
   "cell_type": "code",
   "execution_count": 7,
   "metadata": {},
   "outputs": [],
   "source": [
    "# The run time of this algorithm is O(N logN)\n",
    "# But the get Height is called repeatedly on the same node multiple times."
   ]
  },
  {
   "cell_type": "code",
   "execution_count": null,
   "metadata": {},
   "outputs": [],
   "source": [
    "def checkHeight(TreeNode root):\n",
    "    if (root == NULL):\n",
    "        return -1\n",
    "    \n",
    "    leftHeight = checkHeight(root.left)\n",
    "    if(leftHeight == Integer.MIN_VALUE):\n",
    "        return Integer.MIN_VALUE\n",
    "    \n",
    "    rightHeight = checkHeight(root.right)\n",
    "    if(rightHeight == Integer.MIN_VALUE):\n",
    "        return Integer.MIN_VALUE\n",
    "    \n",
    "    if abs(leftHeight - rightHeight) > 1:\n",
    "        return Integer.MIN_VALUE\n",
    "    else:\n",
    "        return max(leftHeight, rightHeight) + 1\n",
    "    \n",
    "\n",
    "def isBalanced(TreeNode root):\n",
    "    return checkHeight(root) != Integer.MIN_VALUE"
   ]
  },
  {
   "cell_type": "code",
   "execution_count": 8,
   "metadata": {},
   "outputs": [],
   "source": [
    "# Now this programs runs in O(N) time and with O(H) of space utilization"
   ]
  }
 ],
 "metadata": {
  "kernelspec": {
   "display_name": "Python 3",
   "language": "python",
   "name": "python3"
  },
  "language_info": {
   "codemirror_mode": {
    "name": "ipython",
    "version": 3
   },
   "file_extension": ".py",
   "mimetype": "text/x-python",
   "name": "python",
   "nbconvert_exporter": "python",
   "pygments_lexer": "ipython3",
   "version": "3.5.2"
  }
 },
 "nbformat": 4,
 "nbformat_minor": 2
}
